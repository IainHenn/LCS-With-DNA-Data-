{
 "cells": [
  {
   "cell_type": "code",
   "execution_count": 61,
   "metadata": {},
   "outputs": [],
   "source": [
    "import random \n",
    "import pandas as pd \n",
    "import seaborn as sns"
   ]
  },
  {
   "cell_type": "code",
   "execution_count": 62,
   "metadata": {},
   "outputs": [],
   "source": [
    "#This function generates a string that represents DNA, and it is 400 characters long\n",
    "#Either chooses A,C,T,G randomly till it reaches 400 characters\n",
    "def generateDNA():\n",
    "    DNA = []\n",
    "    #For 400 times\n",
    "    for i in range(400):\n",
    "        #Randomly choose a number 1-4\n",
    "        num = random.randint(1,4)\n",
    "        match num:\n",
    "            #number is 1, append A\n",
    "            case 1:\n",
    "                DNA.append(\"A\")\n",
    "            #number is 2, append C\n",
    "            case 2:\n",
    "                DNA.append(\"C\")\n",
    "            #number is 3, append T\n",
    "            case 3:\n",
    "                DNA.append(\"T\")\n",
    "            #number is 4, append G\n",
    "            case 4:\n",
    "                DNA.append(\"G\")\n",
    "    #return the randomly generated DNA strand \n",
    "    return DNA"
   ]
  },
  {
   "cell_type": "code",
   "execution_count": 63,
   "metadata": {},
   "outputs": [],
   "source": [
    "#Finds the least number of insertions, deletions, and/or removals needed to make word1 == word2 \n",
    "def EditDistance(w1, w2):\n",
    "    #length of word1\n",
    "    l1 = len(w1)\n",
    "    #length of word2\n",
    "    l2 = len(w2)\n",
    "    #Making a matrix that is the width of the width of word2 + 1, by the length of word1 + 1\n",
    "    matrix = [[0] * (l1+1) for i in range(l2+1)]\n",
    "    \n",
    "    '''\n",
    "    w1 is associated with the j index (inner)\n",
    "    w2 is associated with the i index (outer)\n",
    "    '''\n",
    "    \n",
    "    for i in range(l2+1):\n",
    "        for j in range(l1+1):\n",
    "\n",
    "            #base case\n",
    "            if(i == 0):\n",
    "                matrix[i][j] = j\n",
    "            elif(j == 0):\n",
    "                matrix[i][j] = i\n",
    "            \n",
    "            #if the letter in both words is the same\n",
    "            elif(w1[j-1] == w2[i-1]):\n",
    "                matrix[i][j] = matrix[i-1][j-1]\n",
    "            \n",
    "            #if the word needs to be replaced, inserted, or removed \n",
    "            #find the minimum of the three surrounding values and add 1 \n",
    "            else:\n",
    "                replace = matrix[i-1][j-1]\n",
    "                insert = matrix[i][j-1]\n",
    "                remove = matrix[i-1][j]\n",
    "                matrix[i][j] = 1 + min(remove,insert,replace)\n",
    "    #Return the bottom right corner of the matrix \n",
    "    return matrix[l2][l1]"
   ]
  },
  {
   "cell_type": "code",
   "execution_count": 64,
   "metadata": {},
   "outputs": [],
   "source": [
    "#Calculates the edit distance pair for each DNA string in the list given a list of DNAs \n",
    "def calcEditDistance(DNA_list):\n",
    "    #Creating empty list that'll hold the edit distance #s \n",
    "    EditDistance_list = []\n",
    "    \n",
    "    #For each DNA in the DNA list\n",
    "    for i in DNA_list:\n",
    "        #Find the edit distance between that DNA and every other DNA in the list\n",
    "        for j in DNA_list:\n",
    "            #Append it to edit distance list \n",
    "            EditDistance_list.append(EditDistance(i,j))\n",
    "    #return the list \n",
    "    return EditDistance_list "
   ]
  },
  {
   "cell_type": "code",
   "execution_count": 65,
   "metadata": {},
   "outputs": [
    {
     "data": {
      "text/plain": [
       "<Axes: xlabel='Edit_Distance', ylabel='Count'>"
      ]
     },
     "execution_count": 65,
     "metadata": {},
     "output_type": "execute_result"
    },
    {
     "data": {
      "image/png": "[encoded data removed]",
      "text/plain": [
       "<Figure size 640x480 with 1 Axes>"
      ]
     },
     "metadata": {},
     "output_type": "display_data"
    }
   ],
   "source": [
    "#Holds our randomly generated DNA list, empty currently \n",
    "fake_DNA_list = []\n",
    "\n",
    "for i in range(20):\n",
    "    #Make 20, 400 character DNA strands and add it to the list \n",
    "    fake_DNA_list.append(generateDNA())\n",
    "\n",
    "#Calculate the edit distance between each DNA pair \n",
    "fake_Edit_Distance_btw_sets = calcEditDistance(fake_DNA_list)\n",
    "\n",
    "#Make a dataframe of it and plot it on a histogram \n",
    "fED_df = pd.DataFrame({'Edit_Distance' : fake_Edit_Distance_btw_sets})\n",
    "sns.histplot(data = fED_df, x = \"Edit_Distance\")\n",
    "\n",
    "#The mean of the histogram of the edit distances seems to be consistently around the 225-240 range \n",
    "#The 0's are because of when we're calculating the edit distance between the same sequences "
   ]
  },
  {
   "cell_type": "code",
   "execution_count": 66,
   "metadata": {},
   "outputs": [
    {
     "data": {
      "text/plain": [
       "<Axes: xlabel='Edit_Distance', ylabel='Count'>"
      ]
     },
     "execution_count": 66,
     "metadata": {},
     "output_type": "execute_result"
    },
    {
     "data": {
      "image/png": "[encoded data removed]",
      "text/plain": [
       "<Figure size 640x480 with 1 Axes>"
      ]
     },
     "metadata": {},
     "output_type": "display_data"
    }
   ],
   "source": [
    "from Bio import Entrez, SeqIO\n",
    "\n",
    "#Function fetches sequence given an accession number of a primate, for all of our primates, and adds their DNA strands to a list \n",
    "def fetch_sequences(accession_dict):\n",
    "    #DNA list to hold our DNAs found by searching a given primate's accession number \n",
    "    DNA_list = []\n",
    "\n",
    "    #For each key in our dictionary\n",
    "    for key in accession_dict:\n",
    "        #Read the key's value (accession number) and then access it's DNA sequence\n",
    "        handle = Entrez.efetch(db=\"nucleotide\", id=accession_dict[key], rettype=\"fasta\")\n",
    "        record = SeqIO.read(handle, \"fasta\")\n",
    "        #Append the DNA sequence to our DNA_list\n",
    "        DNA_list.append(record.seq)\n",
    "        #Close the handle and move on to the next key \n",
    "        handle.close()\n",
    "    #return the DNA list \n",
    "    return DNA_list\n",
    "\n",
    "#Species data that we're given for the assignment \n",
    "species_data = {'German_Neanderthal' : 'AF011222',\n",
    "                'Russian_Neanderthal' : 'AF254446',\n",
    "                'European_Human' : 'X90314',\n",
    "                'Mountain_Gorilla_Rwanda' : 'AF089820',\n",
    "                'Chimp_Troglodytes' : 'AF176766',\n",
    "                'Puti_Orangutan' : 'AF451972',\n",
    "                'Jari_Orangutan' : 'AF451964',\n",
    "                'Western_Lowland_Gorilla' : 'AY079510',\n",
    "                'Eastern_Lowland_Gorilla' : 'AF050738',\n",
    "                'Chimp Schweinfurthii' : 'AF176722',\n",
    "                'Chimp_Vellerosus' : 'AF315498',\n",
    "                'Chimp_Verus' : 'AF176731'}\n",
    "    \n",
    "    \n",
    "# Fetch the DNA sequences from the accession numbers in our dictionary \n",
    "DNA_sequences = fetch_sequences(species_data)\n",
    "#Find the edit distance for each DNA pair\n",
    "Edit_Distance_btw_sets = calcEditDistance(DNA_sequences)\n",
    "\n",
    "#Make a dataframe of it and plot it onto a histogram \n",
    "ED_df = pd.DataFrame({'Edit_Distance' : Edit_Distance_btw_sets})\n",
    "sns.histplot(data = ED_df, x = \"Edit_Distance\")\n",
    "\n",
    "#The average is probably around the 100-125 range"
   ]
  }
 ],
 "metadata": {
  "kernelspec": {
   "display_name": "Python 3",
   "language": "python",
   "name": "python3"
  },
  "language_info": {
   "codemirror_mode": {
    "name": "ipython",
    "version": 3
   },
   "file_extension": ".py",
   "mimetype": "text/x-python",
   "name": "python",
   "nbconvert_exporter": "python",
   "pygments_lexer": "ipython3",
   "version": "3.12.2"
  }
 },
 "nbformat": 4,
 "nbformat_minor": 2
}
