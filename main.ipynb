{
 "cells": [
  {
   "cell_type": "code",
   "execution_count": 25,
   "metadata": {},
   "outputs": [],
   "source": [
    "import random \n",
    "import pandas as pd \n",
    "import seaborn as sns"
   ]
  },
  {
   "cell_type": "code",
   "execution_count": 26,
   "metadata": {},
   "outputs": [],
   "source": [
    "def generateDNA():\n",
    "    DNA = []\n",
    "    for i in range(100):\n",
    "        num = random.randint(1,4)\n",
    "        match num:\n",
    "            case 1:\n",
    "                DNA.append(\"A\")\n",
    "            case 2:\n",
    "                DNA.append(\"C\")\n",
    "            case 3:\n",
    "                DNA.append(\"T\")\n",
    "            case 4:\n",
    "                DNA.append(\"G\")\n",
    "    return DNA"
   ]
  },
  {
   "cell_type": "code",
   "execution_count": 27,
   "metadata": {},
   "outputs": [],
   "source": [
    "def EditDistance(w1, w2):\n",
    "    l1 = len(w1)\n",
    "    l2 = len(w2)\n",
    "    matrix = [[0] * (l1+1) for i in range(l2+1)]\n",
    "    \n",
    "    '''\n",
    "    w1 is associated with the j index (inner)\n",
    "    w2 is associated with the i index (outer)\n",
    "    '''\n",
    "\n",
    "    for i in range(l2+1):\n",
    "        for j in range(l1+1):\n",
    "\n",
    "            #base case\n",
    "            if(i == 0):\n",
    "                matrix[i][j] = j\n",
    "            elif(j == 0):\n",
    "                matrix[i][j] = i\n",
    "            \n",
    "            #if the letter in both words is the same\n",
    "            elif(w1[j-1] == w2[i-1]):\n",
    "                matrix[i][j] = matrix[i-1][j-1]\n",
    "            \n",
    "            #if the word needs to be replaced, inserted, or removed \n",
    "            #find the minimum of the three surrounding values and add 1 \n",
    "            else:\n",
    "                replace = matrix[i-1][j-1]\n",
    "                insert = matrix[i][j-1]\n",
    "                remove = matrix[i-1][j]\n",
    "                matrix[i][j] = 1 + min(remove,insert,replace)\n",
    "\n",
    "    return matrix[l2][l1]"
   ]
  },
  {
   "cell_type": "code",
   "execution_count": null,
   "metadata": {},
   "outputs": [],
   "source": [
    "DNA1_set = []\n",
    "DNA2_set = []\n",
    "Edit_Distance_btw_sets = []\n",
    "\n",
    "for i in range(500):\n",
    "    temp1 = generateDNA()\n",
    "    temp2 = generateDNA()\n",
    "    DNA1_set.append(temp1)\n",
    "    DNA2_set.append(temp2)\n",
    "    Edit_Distance_btw_sets.append(EditDistance(temp1,temp2))\n",
    "\n",
    "\n",
    "ED_df = pd.DataFrame({'Edit_Distance' : Edit_Distance_btw_sets})\n",
    "sns.histplot(data = ED_df, x = \"Edit_Distance\")\n",
    "\n",
    "#The mean of the histogram of the edit distances seems to be consistently around the 55-57.5 range "
   ]
  }
 ],
 "metadata": {
  "kernelspec": {
   "display_name": "Python 3",
   "language": "python",
   "name": "python3"
  },
  "language_info": {
   "codemirror_mode": {
    "name": "ipython",
    "version": 3
   },
   "file_extension": ".py",
   "mimetype": "text/x-python",
   "name": "python",
   "nbconvert_exporter": "python",
   "pygments_lexer": "ipython3",
   "version": "3.12.2"
  }
 },
 "nbformat": 4,
 "nbformat_minor": 2
}
